{
 "cells": [
  {
   "cell_type": "code",
   "execution_count": 2,
   "metadata": {},
   "outputs": [],
   "source": [
    "import numpy as np\n",
    "import pandas as pd\n",
    "\n",
    "from matplotlib import pyplot as plt"
   ]
  },
  {
   "cell_type": "code",
   "execution_count": 3,
   "metadata": {},
   "outputs": [],
   "source": [
    "epi_0 = pd.read_csv('epistasis_0.csv')\n",
    "epi_1 = pd.read_csv('epistasis_1.csv')\n",
    "epi_2 = pd.read_csv('epistasis_2.csv')"
   ]
  },
  {
   "cell_type": "markdown",
   "metadata": {},
   "source": [
    "### Average Slope Values"
   ]
  },
  {
   "cell_type": "code",
   "execution_count": 4,
   "metadata": {},
   "outputs": [
    {
     "name": "stdout",
     "output_type": "stream",
     "text": [
      "No epistasis\n",
      "mean: 1.1044891914549813\n",
      "standard deviation: 0.3380475546335793\n",
      "\n",
      "First-order epistasis\n",
      "mean: 0.8270747851235013\n",
      "standard deviation: 0.3486585510693357\n",
      "\n",
      "Second-order epistasis\n",
      "mean: 0.6160845365775091\n",
      "standard deviation: 0.44875789601733695\n",
      "\n"
     ]
    }
   ],
   "source": [
    "print('No epistasis')\n",
    "print('mean: ' + str(epi_0['Slope'].mean()))\n",
    "print('standard deviation: ' + str(epi_0['Slope'].std()) + '\\n')\n",
    "\n",
    "print('First-order epistasis')\n",
    "print('mean: ' + str(epi_1['Slope'].mean()))\n",
    "print('standard deviation: ' + str(epi_1['Slope'].std()) + '\\n')\n",
    "\n",
    "print('Second-order epistasis')\n",
    "print('mean: ' + str(epi_2['Slope'].mean()))\n",
    "print('standard deviation: ' + str(epi_2['Slope'].std()) + '\\n')"
   ]
  },
  {
   "cell_type": "markdown",
   "metadata": {},
   "source": [
    "### Proportion of Polymorphic Simulations"
   ]
  },
  {
   "cell_type": "code",
   "execution_count": 5,
   "metadata": {},
   "outputs": [
    {
     "name": "stdout",
     "output_type": "stream",
     "text": [
      "No epistasis\n",
      "0.343\n",
      "\n",
      "First-order epistasis\n",
      "0.408\n",
      "\n",
      "Second-order epistasis\n",
      "0.43\n",
      "\n"
     ]
    }
   ],
   "source": [
    "print('No epistasis')\n",
    "print(str(np.sum(epi_0['Polymorphism']) / len(epi_0['Polymorphism'])) + '\\n')\n",
    "\n",
    "print('First-order epistasis')\n",
    "print(str(np.sum(epi_1['Polymorphism']) / len(epi_1['Polymorphism'])) + '\\n')\n",
    "\n",
    "print('Second-order epistasis')\n",
    "print(str(np.sum(epi_2['Polymorphism']) / len(epi_2['Polymorphism'])) + '\\n')"
   ]
  },
  {
   "cell_type": "markdown",
   "metadata": {},
   "source": [
    "### Proportion of Pareto Genotypes with ESS"
   ]
  },
  {
   "cell_type": "code",
   "execution_count": 8,
   "metadata": {},
   "outputs": [
    {
     "name": "stdout",
     "output_type": "stream",
     "text": [
      "No epistasis\n",
      "0.33499999999999996\n",
      "\n",
      "First-order epistasis\n",
      "0.41500000000000004\n",
      "\n",
      "Second-order epistasis\n",
      "0.42700000000000005\n",
      "\n"
     ]
    }
   ],
   "source": [
    "prop_0 = np.sum(epi_0['PIPMin: Pareto'] < 1) / epi_0.shape[0]\n",
    "prop_1 = np.sum(epi_1['PIPMin: Pareto'] < 1) / epi_1.shape[0]\n",
    "prop_2 = np.sum(epi_2['PIPMin: Pareto'] < 1) / epi_2.shape[0]\n",
    "\n",
    "print('No epistasis')\n",
    "print(str(1- prop_0) + '\\n')\n",
    "\n",
    "print('First-order epistasis')\n",
    "print(str(1 - prop_1) + '\\n')\n",
    "\n",
    "print('Second-order epistasis')\n",
    "print(str(1 - prop_2) + '\\n')"
   ]
  },
  {
   "cell_type": "markdown",
   "metadata": {},
   "source": [
    "### Proportion of Pairwise Linear Genotypes with ESS"
   ]
  },
  {
   "cell_type": "code",
   "execution_count": 17,
   "metadata": {},
   "outputs": [
    {
     "name": "stdout",
     "output_type": "stream",
     "text": [
      "No epistasis\n",
      "0.33399999999999996\n",
      "\n",
      "First-order epistasis\n",
      "0.41800000000000004\n",
      "\n",
      "Second-order epistasis\n",
      "0.45999999999999996\n",
      "\n"
     ]
    }
   ],
   "source": [
    "prop_0 = np.sum(epi_0['PIPMin: Linear'] < 1) / epi_0.shape[0]\n",
    "prop_1 = np.sum(epi_1['PIPMin: Linear'] < 1) / epi_1.shape[0]\n",
    "prop_2 = np.sum(epi_2['PIPMin: Linear'] < 1) / epi_2.shape[0]\n",
    "\n",
    "print('No epistasis')\n",
    "print(str(1 - prop_0) + '\\n')\n",
    "\n",
    "print('First-order epistasis')\n",
    "print(str(1 - prop_1) + '\\n')\n",
    "\n",
    "print('Second-order epistasis')\n",
    "print(str(1 - prop_2) + '\\n')"
   ]
  },
  {
   "cell_type": "markdown",
   "metadata": {},
   "source": [
    "### Proportion of Polynomial Genotypes with ESS\n",
    "\n",
    "technical note: here we consider the existance of 1 genotype which can invade to still be an ESS due to numerical stability issues in the computation of the PIPs."
   ]
  },
  {
   "cell_type": "code",
   "execution_count": 15,
   "metadata": {},
   "outputs": [
    {
     "name": "stdout",
     "output_type": "stream",
     "text": [
      "No epistasis\n",
      "0.014000000000000012\n",
      "\n",
      "First-order epistasis\n",
      "0.11299999999999999\n",
      "\n",
      "Second-order epistasis\n",
      "0.239\n",
      "\n"
     ]
    }
   ],
   "source": [
    "prop_0 = np.sum(epi_0['PIPMin: Polynomial'] < 2) / epi_0.shape[0]\n",
    "prop_1 = np.sum(epi_1['PIPMin: Polynomial'] < 2) / epi_1.shape[0]\n",
    "prop_2 = np.sum(epi_2['PIPMin: Polynomial'] < 2) / epi_2.shape[0]\n",
    "\n",
    "print('No epistasis')\n",
    "print(str(1 - prop_0) + '\\n')\n",
    "\n",
    "print('First-order epistasis')\n",
    "print(str(1 - prop_1) + '\\n')\n",
    "\n",
    "print('Second-order epistasis')\n",
    "print(str(1 - prop_2) + '\\n')"
   ]
  },
  {
   "cell_type": "markdown",
   "metadata": {},
   "source": [
    "### Probability of Pairwise Linear Polymorphism Given Pareto Polymorphism"
   ]
  },
  {
   "cell_type": "code",
   "execution_count": 20,
   "metadata": {},
   "outputs": [
    {
     "name": "stdout",
     "output_type": "stream",
     "text": [
      "No epistasis\n",
      "1.0\n",
      "\n",
      "First-order epistasis\n",
      "1.0\n",
      "\n",
      "Second-order epistasis\n",
      "1.0\n",
      "\n"
     ]
    }
   ],
   "source": [
    "candidates_0 = epi_0['PIPMin: Linear'][epi_0['PIPMin: Pareto'] > 1]\n",
    "prop_0 = len(candidates_0[candidates_0 > 0]) / len(candidates_0)\n",
    "\n",
    "candidates_1 = epi_1['PIPMin: Linear'][epi_1['PIPMin: Pareto'] > 1]\n",
    "prop_1 = len(candidates_1[candidates_1 > 0]) / len(candidates_1)\n",
    "\n",
    "candidates_2 = epi_2['PIPMin: Linear'][epi_2['PIPMin: Pareto'] > 1]\n",
    "prop_2 = len(candidates_2[candidates_2 > 0]) / len(candidates_2)\n",
    "\n",
    "print('No epistasis')\n",
    "print(str(prop_0) + '\\n')\n",
    "\n",
    "print('First-order epistasis')\n",
    "print(str(prop_1) + '\\n')\n",
    "\n",
    "print('Second-order epistasis')\n",
    "print(str(prop_2) + '\\n')"
   ]
  },
  {
   "cell_type": "markdown",
   "metadata": {},
   "source": [
    "### Probability of Pareto Polymorphism Given Interpolated Polymorphism"
   ]
  },
  {
   "cell_type": "code",
   "execution_count": 21,
   "metadata": {},
   "outputs": [
    {
     "name": "stdout",
     "output_type": "stream",
     "text": [
      "No epistasis\n",
      "1.0\n",
      "\n",
      "First-order epistasis\n",
      "0.9925925925925926\n",
      "\n",
      "Second-order epistasis\n",
      "0.9246119733924612\n",
      "\n"
     ]
    }
   ],
   "source": [
    "candidates_0 = epi_0['PIPMin: Pareto'][epi_0['PIPMin: Linear'] > 1]\n",
    "prop_0 = len(candidates_0[candidates_0 > 0]) / len(candidates_0)\n",
    "\n",
    "candidates_1 = epi_1['PIPMin: Pareto'][epi_1['PIPMin: Linear'] > 1]\n",
    "prop_1 = len(candidates_1[candidates_1 > 0]) / len(candidates_1)\n",
    "\n",
    "candidates_2 = epi_2['PIPMin: Pareto'][epi_2['PIPMin: Linear'] > 1]\n",
    "prop_2 = len(candidates_2[candidates_2 > 0]) / len(candidates_2)\n",
    "\n",
    "print('No epistasis')\n",
    "print(str(prop_0) + '\\n')\n",
    "\n",
    "print('First-order epistasis')\n",
    "print(str(prop_1) + '\\n')\n",
    "\n",
    "print('Second-order epistasis')\n",
    "print(str(prop_2) + '\\n')"
   ]
  },
  {
   "cell_type": "markdown",
   "metadata": {},
   "source": [
    "### Probability of Polynomial Polymorphism Given Pareto Polymorphism"
   ]
  },
  {
   "cell_type": "code",
   "execution_count": 24,
   "metadata": {},
   "outputs": [
    {
     "name": "stdout",
     "output_type": "stream",
     "text": [
      "No epistasis\n",
      "0.029850746268656716\n",
      "\n",
      "First-order epistasis\n",
      "0.19036144578313252\n",
      "\n",
      "Second-order epistasis\n",
      "0.40749414519906324\n",
      "\n"
     ]
    }
   ],
   "source": [
    "candidates_0 = epi_0['PIPMin: Polynomial'][epi_0['PIPMin: Pareto'] > 0]\n",
    "prop_0 = len(candidates_0[candidates_0 > 1]) / len(candidates_0)\n",
    "\n",
    "candidates_1 = epi_1['PIPMin: Polynomial'][epi_1['PIPMin: Pareto'] > 0]\n",
    "prop_1 = len(candidates_1[candidates_1 > 1]) / len(candidates_1)\n",
    "\n",
    "candidates_2 = epi_2['PIPMin: Polynomial'][epi_2['PIPMin: Pareto'] > 0]\n",
    "prop_2 = len(candidates_2[candidates_2 > 1]) / len(candidates_2)\n",
    "\n",
    "print('No epistasis')\n",
    "print(str(prop_0) + '\\n')\n",
    "\n",
    "print('First-order epistasis')\n",
    "print(str(prop_1) + '\\n')\n",
    "\n",
    "print('Second-order epistasis')\n",
    "print(str(prop_2) + '\\n')"
   ]
  },
  {
   "cell_type": "markdown",
   "metadata": {},
   "source": [
    "### Probability of Pareto Polymorphism Given Interpolated Polymorphism"
   ]
  },
  {
   "cell_type": "code",
   "execution_count": 25,
   "metadata": {},
   "outputs": [
    {
     "name": "stdout",
     "output_type": "stream",
     "text": [
      "No epistasis\n",
      "0.7142857142857143\n",
      "\n",
      "First-order epistasis\n",
      "0.6991150442477876\n",
      "\n",
      "Second-order epistasis\n",
      "0.7280334728033473\n",
      "\n"
     ]
    }
   ],
   "source": [
    "candidates_0 = epi_0['PIPMin: Pareto'][epi_0['PIPMin: Polynomial'] > 1]\n",
    "prop_0 = len(candidates_0[candidates_0 > 0]) / len(candidates_0)\n",
    "\n",
    "candidates_1 = epi_1['PIPMin: Pareto'][epi_1['PIPMin: Polynomial'] > 1]\n",
    "prop_1 = len(candidates_1[candidates_1 > 0]) / len(candidates_1)\n",
    "\n",
    "candidates_2 = epi_2['PIPMin: Pareto'][epi_2['PIPMin: Polynomial'] > 1]\n",
    "prop_2 = len(candidates_2[candidates_2 > 0]) / len(candidates_2)\n",
    "\n",
    "print('No epistasis')\n",
    "print(str(prop_0) + '\\n')\n",
    "\n",
    "print('First-order epistasis')\n",
    "print(str(prop_1) + '\\n')\n",
    "\n",
    "print('Second-order epistasis')\n",
    "print(str(prop_2) + '\\n')"
   ]
  },
  {
   "cell_type": "markdown",
   "metadata": {},
   "source": [
    "### Slope-Polymorphism Relationship"
   ]
  },
  {
   "cell_type": "code",
   "execution_count": 36,
   "metadata": {},
   "outputs": [
    {
     "data": {
      "text/plain": [
       "<matplotlib.collections.PathCollection at 0x77a2344f48c0>"
      ]
     },
     "execution_count": 36,
     "metadata": {},
     "output_type": "execute_result"
    },
    {
     "data": {
      "image/png": "[encoded data removed]",
      "text/plain": [
       "<Figure size 640x480 with 6 Axes>"
      ]
     },
     "metadata": {},
     "output_type": "display_data"
    }
   ],
   "source": [
    "fig, ax = plt.subplots(nrows=2, ncols=3)\n",
    "\n",
    "AD_poly1 = np.array(epi_0['PIPMin: Polynomial'])\n",
    "AD_poly1[AD_poly1 <= 1] = 0\n",
    "AD_poly1[AD_poly1 > 1] = 1\n",
    "\n",
    "AD_poly2 = np.array(epi_0['PIPMin: Polynomial'])\n",
    "AD_poly2[AD_poly2 <= 1] = 0\n",
    "AD_poly2[AD_poly2 > 1] = 1\n",
    "\n",
    "AD_poly3 = np.array(epi_0['PIPMin: Polynomial'])\n",
    "AD_poly3[AD_poly3 <= 1] = 0\n",
    "AD_poly3[AD_poly3 > 1] = 1\n",
    "\n",
    "ax[0,0].scatter(epi_0['Slope'], AD_poly1)\n",
    "ax[0,1].scatter(epi_1['Slope'], AD_poly2)\n",
    "ax[0,2].scatter(epi_2['Slope'], AD_poly3)\n",
    "\n",
    "P_poly1 = np.array(epi_0['PIPMin: Pareto'])\n",
    "P_poly1[P_poly1 >= 1] = 1\n",
    "P_poly1[P_poly1 < 1] = 0\n",
    "\n",
    "P_poly2 = np.array(epi_0['PIPMin: Pareto'])\n",
    "P_poly2[P_poly2 >= 1] = 1\n",
    "P_poly2[P_poly2 < 1] = 0\n",
    "\n",
    "P_poly3 = np.array(epi_0['PIPMin: Pareto'])\n",
    "P_poly3[P_poly3 >= 1] = 1\n",
    "P_poly3[P_poly3 < 1] = 0\n",
    "\n",
    "ax[1,0].scatter(epi_0['Slope'], P_poly1)\n",
    "ax[1,1].scatter(epi_1['Slope'], P_poly2)\n",
    "ax[1,2].scatter(epi_2['Slope'], P_poly3)"
   ]
  }
 ],
 "metadata": {
  "kernelspec": {
   "display_name": "Python 3",
   "language": "python",
   "name": "python3"
  },
  "language_info": {
   "codemirror_mode": {
    "name": "ipython",
    "version": 3
   },
   "file_extension": ".py",
   "mimetype": "text/x-python",
   "name": "python",
   "nbconvert_exporter": "python",
   "pygments_lexer": "ipython3",
   "version": "3.12.5"
  }
 },
 "nbformat": 4,
 "nbformat_minor": 2
}
