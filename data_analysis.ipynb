{
 "cells": [
  {
   "cell_type": "code",
   "execution_count": 29,
   "metadata": {},
   "outputs": [],
   "source": [
    "import numpy as np\n",
    "import pandas as pd\n",
    "\n",
    "from matplotlib import pyplot as plt"
   ]
  },
  {
   "cell_type": "code",
   "execution_count": 37,
   "metadata": {},
   "outputs": [],
   "source": [
    "epi_0 = pd.read_csv('epistasis_0.csv')\n",
    "epi_1 = pd.read_csv('epistasis_1.csv')\n",
    "epi_2 = pd.read_csv('epistasis_2.csv')"
   ]
  },
  {
   "cell_type": "markdown",
   "metadata": {},
   "source": [
    "### Average Slope Values"
   ]
  },
  {
   "cell_type": "code",
   "execution_count": 24,
   "metadata": {},
   "outputs": [
    {
     "name": "stdout",
     "output_type": "stream",
     "text": [
      "No epistasis\n",
      "mean: 44061.70168433273\n",
      "standard deviation: 13901.46498908318\n",
      "\n",
      "First-order epistasis\n",
      "mean: 33640.605546205836\n",
      "standard deviation: 13918.629919957151\n",
      "\n",
      "Second-order epistasis\n",
      "mean: 22337.105762634237\n",
      "standard deviation: 17234.12361167496\n",
      "\n"
     ]
    }
   ],
   "source": [
    "print('No epistasis')\n",
    "print('mean: ' + str(epi_0['Slope'].mean()))\n",
    "print('standard deviation: ' + str(epi_0['Slope'].std()) + '\\n')\n",
    "\n",
    "print('First-order epistasis')\n",
    "print('mean: ' + str(epi_1['Slope'].mean()))\n",
    "print('standard deviation: ' + str(epi_1['Slope'].std()) + '\\n')\n",
    "\n",
    "print('Second-order epistasis')\n",
    "print('mean: ' + str(epi_2['Slope'].mean()))\n",
    "print('standard deviation: ' + str(epi_2['Slope'].std()) + '\\n')"
   ]
  },
  {
   "cell_type": "markdown",
   "metadata": {},
   "source": [
    "### Proportion of Polymorphic Simulations"
   ]
  },
  {
   "cell_type": "code",
   "execution_count": 25,
   "metadata": {},
   "outputs": [
    {
     "name": "stdout",
     "output_type": "stream",
     "text": [
      "No epistasis\n",
      "0.297\n",
      "\n",
      "First-order epistasis\n",
      "0.366\n",
      "\n",
      "Second-order epistasis\n",
      "0.415\n",
      "\n"
     ]
    }
   ],
   "source": [
    "print('No epistasis')\n",
    "print(str(np.sum(epi_0['Polymorphism']) / len(epi_0['Polymorphism'])) + '\\n')\n",
    "\n",
    "print('First-order epistasis')\n",
    "print(str(np.sum(epi_1['Polymorphism']) / len(epi_1['Polymorphism'])) + '\\n')\n",
    "\n",
    "print('Second-order epistasis')\n",
    "print(str(np.sum(epi_2['Polymorphism']) / len(epi_2['Polymorphism'])) + '\\n')"
   ]
  },
  {
   "cell_type": "markdown",
   "metadata": {},
   "source": [
    "### Proportion of Pareto Genotypes with ESS"
   ]
  },
  {
   "cell_type": "code",
   "execution_count": 26,
   "metadata": {},
   "outputs": [
    {
     "name": "stdout",
     "output_type": "stream",
     "text": [
      "No epistasis\n",
      "0.673\n",
      "\n",
      "First-order epistasis\n",
      "0.605\n",
      "\n",
      "Second-order epistasis\n",
      "0.569\n",
      "\n"
     ]
    }
   ],
   "source": [
    "prop_0 = np.sum(epi_0['Invasion Genotypes: Pareto'] < 1) / epi_0.shape[0]\n",
    "prop_1 = np.sum(epi_1['Invasion Genotypes: Pareto'] < 1) / epi_1.shape[0]\n",
    "prop_2 = np.sum(epi_2['Invasion Genotypes: Pareto'] < 1) / epi_2.shape[0]\n",
    "\n",
    "\n",
    "print('No epistasis')\n",
    "print(str(prop_0) + '\\n')\n",
    "\n",
    "print('First-order epistasis')\n",
    "print(str(prop_1) + '\\n')\n",
    "\n",
    "print('Second-order epistasis')\n",
    "print(str(prop_2) + '\\n')"
   ]
  },
  {
   "cell_type": "markdown",
   "metadata": {},
   "source": [
    "### Proportion of Interpolated Genotypes with ESS"
   ]
  },
  {
   "cell_type": "code",
   "execution_count": 27,
   "metadata": {},
   "outputs": [
    {
     "name": "stdout",
     "output_type": "stream",
     "text": [
      "No epistasis\n",
      "0.956\n",
      "\n",
      "First-order epistasis\n",
      "0.83\n",
      "\n",
      "Second-order epistasis\n",
      "0.714\n",
      "\n"
     ]
    }
   ],
   "source": [
    "prop_0 = np.sum(epi_0['Invasion Genotypes: Interp'] < 2) / epi_0.shape[0]\n",
    "prop_1 = np.sum(epi_1['Invasion Genotypes: Interp'] < 2) / epi_0.shape[0]\n",
    "prop_2 = np.sum(epi_2['Invasion Genotypes: Interp'] < 2) / epi_0.shape[0]\n",
    "\n",
    "\n",
    "print('No epistasis')\n",
    "print(str(prop_0) + '\\n')\n",
    "\n",
    "print('First-order epistasis')\n",
    "print(str(prop_1) + '\\n')\n",
    "\n",
    "print('Second-order epistasis')\n",
    "print(str(prop_2) + '\\n')"
   ]
  },
  {
   "cell_type": "markdown",
   "metadata": {},
   "source": [
    "### Probability of Interpolated Polymorphism Given Pareto Polymorphism"
   ]
  },
  {
   "cell_type": "code",
   "execution_count": 28,
   "metadata": {},
   "outputs": [
    {
     "name": "stdout",
     "output_type": "stream",
     "text": [
      "No epistasis\n",
      "0.12781954887218044\n",
      "\n",
      "First-order epistasis\n",
      "0.3905325443786982\n",
      "\n",
      "Second-order epistasis\n",
      "0.6129032258064516\n",
      "\n"
     ]
    }
   ],
   "source": [
    "candidates_0 = epi_0['Invasion Genotypes: Interp'][epi_0['Invasion Genotypes: Pareto'] > 1]\n",
    "prop_0 = len(candidates_0[candidates_0 > 1]) / len(candidates_0)\n",
    "\n",
    "candidates_1 = epi_1['Invasion Genotypes: Interp'][epi_1['Invasion Genotypes: Pareto'] > 1]\n",
    "prop_1 = len(candidates_1[candidates_1 > 1]) / len(candidates_1)\n",
    "\n",
    "candidates_2 = epi_2['Invasion Genotypes: Interp'][epi_2['Invasion Genotypes: Pareto'] > 1]\n",
    "prop_2 = len(candidates_2[candidates_2 > 1]) / len(candidates_2)\n",
    "\n",
    "print('No epistasis')\n",
    "print(str(prop_0) + '\\n')\n",
    "\n",
    "print('First-order epistasis')\n",
    "print(str(prop_1) + '\\n')\n",
    "\n",
    "print('Second-order epistasis')\n",
    "print(str(prop_2) + '\\n')"
   ]
  },
  {
   "cell_type": "markdown",
   "metadata": {},
   "source": [
    "### Slope-Polymorphism Relationship"
   ]
  },
  {
   "cell_type": "code",
   "execution_count": 54,
   "metadata": {},
   "outputs": [
    {
     "data": {
      "text/plain": [
       "<matplotlib.collections.PathCollection at 0x748c2b247d40>"
      ]
     },
     "execution_count": 54,
     "metadata": {},
     "output_type": "execute_result"
    },
    {
     "data": {
      "image/png": "[encoded data removed]",
      "text/plain": [
       "<Figure size 640x480 with 6 Axes>"
      ]
     },
     "metadata": {},
     "output_type": "display_data"
    }
   ],
   "source": [
    "fig, ax = plt.subplots(nrows=2, ncols=3)\n",
    "\n",
    "AD_poly1 = np.array(epi_0['Invasion Genotypes: Interp'])\n",
    "AD_poly1[AD_poly1 >= 1] = 1\n",
    "AD_poly1[AD_poly1 < 1] = 0\n",
    "\n",
    "AD_poly2 = np.array(epi_0['Invasion Genotypes: Interp'])\n",
    "AD_poly2[AD_poly2 >= 1] = 1\n",
    "AD_poly2[AD_poly2 < 1] = 0\n",
    "\n",
    "AD_poly3 = np.array(epi_0['Invasion Genotypes: Interp'])\n",
    "AD_poly3[AD_poly3 >= 1] = 1\n",
    "AD_poly3[AD_poly3 < 1] = 0\n",
    "\n",
    "ax[0,0].scatter(epi_0['Slope'], AD_poly1)\n",
    "ax[0,1].scatter(epi_1['Slope'], AD_poly2)\n",
    "ax[0,2].scatter(epi_2['Slope'], AD_poly3)\n",
    "\n",
    "P_poly1 = np.array(epi_0['Invasion Genotypes: Pareto'])\n",
    "P_poly1[P_poly1 >= 1] = 1\n",
    "P_poly1[P_poly1 < 1] = 0\n",
    "\n",
    "P_poly2 = np.array(epi_0['Invasion Genotypes: Pareto'])\n",
    "P_poly2[P_poly2 >= 1] = 1\n",
    "P_poly2[P_poly2 < 1] = 0\n",
    "\n",
    "P_poly3 = np.array(epi_0['Invasion Genotypes: Pareto'])\n",
    "P_poly3[P_poly3 >= 1] = 1\n",
    "P_poly3[P_poly3 < 1] = 0\n",
    "\n",
    "ax[1,0].scatter(epi_0['Slope'], P_poly1)\n",
    "ax[1,1].scatter(epi_1['Slope'], P_poly2)\n",
    "ax[1,2].scatter(epi_2['Slope'], P_poly3)"
   ]
  },
  {
   "cell_type": "code",
   "execution_count": 45,
   "metadata": {},
   "outputs": [],
   "source": [
    "AD_poly = np.array(epi_0['Invasion Genotypes: Interp'])\n"
   ]
  },
  {
   "cell_type": "code",
   "execution_count": 47,
   "metadata": {},
   "outputs": [],
   "source": [
    "AD_poly[AD_poly > 1] = 999"
   ]
  },
  {
   "cell_type": "code",
   "execution_count": 48,
   "metadata": {},
   "outputs": [
    {
     "data": {
      "text/plain": [
       "array([  0.,   1.,   0.,   0.,   0.,   0.,   0.,   0.,   0.,   0.,   0.,\n",
       "         0., 999.,   0.,   0.,   0.,   0.,   0.,   0.,   1.,   0.,   1.,\n",
       "         0.,   0.,   0.,   0.,   1.,   0.,   0.,   0.,   0.,   0.,   1.,\n",
       "         0., 999.,   0.,   1., 999.,   1.,   0.,   0.,   0.,   0.,   0.,\n",
       "       999., 999.,   0.,   0.,   0.,   0.,   1.,   0.,   1.,   0.,   0.,\n",
       "         1.,   0.,   0., 999.,   1.,   0.,   0.,   0.,   0.,   0.,   0.,\n",
       "         0.,   0.,   1.,   0.,   0.,   0.,   1.,   0.,   1.,   0.,   0.,\n",
       "         0.,   0.,   1.,   0.,   1.,   1., 999.,   0.,   0., 999.,   0.,\n",
       "         0.,   1.,   1.,   0.,   0.,   0.,   0.,   1.,   1.,   0.,   0.,\n",
       "         0., 999.,   0.,   1.,   0.,   0.,   0.,   0.,   1.,   1.,   1.,\n",
       "         0.,   1.,   0.,   0.,   1.,   0.,   1.,   0.,   0.,   0.,   0.,\n",
       "         0.,   1.,   0.,   0.,   0.,   1.,   0.,   0.,   1.,   0.,   0.,\n",
       "         0.,   0.,   0.,   0.,   0.,   0.,   0.,   0.,   0.,   0.,   0.,\n",
       "         0.,   0.,   0.,   1.,   1.,   0.,   0.,   0.,   0.,   0.,   0.,\n",
       "         0.,   0.,   1.,   0.,   0.,   0.,   1.,   0.,   0.,   0.,   0.,\n",
       "         0.,   0.,   1.,   0.,   0.,   0., 999.,   0.,   0.,   0., 999.,\n",
       "         0.,   0.,   1.,   0.,   0.,   0.,   0.,   0.,   0.,   1.,   0.,\n",
       "         0.,   0.,   1.,   0.,   0.,   0.,   0.,   1.,   0.,   1.,   0.,\n",
       "         1.,   1.,   0.,   1.,   1.,   0.,   0.,   0.,   0.,   0.,   0.,\n",
       "         1.,   0.,   1.,   0.,   0.,   0.,   1.,   1.,   0.,   0.,   1.,\n",
       "         1.,   0.,   0.,   0.,   0.,   0.,   0., 999.,   0.,   0.,   1.,\n",
       "         0.,   0.,   1.,   0.,   0.,   0.,   1.,   0.,   0.,   0.,   0.,\n",
       "         0.,   0.,   0.,   0., 999., 999.,   0.,   0.,   1.,   0.,   0.,\n",
       "         0.,   0.,   0.,   0.,   0.,   0.,   0.,   0.,   0.,   0.,   1.,\n",
       "         1.,   0.,   0.,   1.,   0., 999.,   0.,   0.,   0.,   0.,   0.,\n",
       "         1.,   0.,   0.,   1.,   0.,   0.,   0.,   0.,   0.,   0.,   0.,\n",
       "         0.,   0.,   0.,   0.,   1.,   0.,   0.,   0.,   0.,   0.,   1.,\n",
       "         0.,   0.,   1.,   0.,   0.,   0.,   1.,   0.,   0.,   0.,   0.,\n",
       "         0.,   1.,   0.,   1.,   1.,   1.,   0.,   1.,   0.,   1.,   0.,\n",
       "         0.,   0.,   1.,   0.,   0.,   0.,   0.,   0.,   1.,   0.,   0.,\n",
       "         0.,   0.,   1.,   0.,   1.,   1.,   0.,   0.,   0., 999.,   1.,\n",
       "         0.,   0.,   0.,   0.,   1.,   0.,   0., 999.,   0.,   0.,   0.,\n",
       "         0.,   1.,   0.,   0.,   1.,   0.,   1.,   1.,   1.,   0.,   1.,\n",
       "         0.,   1.,   0.,   0.,   1.,   0.,   0.,   0.,   0.,   0.,   0.,\n",
       "         0., 999.,   0.,   0.,   0.,   0.,   0.,   0.,   0.,   0.,   0.,\n",
       "         0.,   0.,   1.,   0.,   0.,   0.,   0.,   0.,   0.,   0.,   0.,\n",
       "         0.,   0.,   0.,   0.,   0.,   0.,   0.,   1.,   0.,   0.,   1.,\n",
       "         1.,   0., 999., 999.,   0.,   0.,   0.,   0.,   0.,   1.,   0.,\n",
       "         1.,   1.,   0.,   0.,   1.,   1.,   1.,   0.,   0.,   0., 999.,\n",
       "         0.,   0.,   0.,   1.,   0.,   0.,   0.,   0.,   0.,   0.,   0.,\n",
       "         1.,   1.,   0.,   1.,   1.,   0.,   0.,   0.,   0.,   0.,   0.,\n",
       "         0.,   0.,   1.,   0.,   0.,   0.,   0.,   1.,   0.,   0.,   1.,\n",
       "         0.,   0.,   0.,   1.,   0.,   0.,   0.,   0.,   0.,   1.,   0.,\n",
       "         0.,   0.,   0.,   1.,   1.,   1.,   0.,   0., 999.,   0.,   1.,\n",
       "         0.,   0.,   0.,   1.,   0.,   0.,   0.,   0.,   0.,   0.,   0.,\n",
       "         1., 999.,   0.,   1.,   0.,   0.,   0.,   0.,   0.,   0.,   0.,\n",
       "         0.,   0.,   1.,   0., 999.,   0.,   0.,   0.,   1.,   0.,   1.,\n",
       "         0.,   0.,   0.,   1.,   1.,   0.,   0.,   0.,   0.,   0.,   0.,\n",
       "         1.,   0., 999.,   0.,   1.,   0.,   0.,   0.,   0.,   0.,   0.,\n",
       "         0.,   0.,   0.,   0.,   0.,   0.,   0.,   0.,   0.,   1.,   0.,\n",
       "       999.,   1.,   0.,   0.,   0.,   0.,   1.,   0.,   0.,   0.,   1.,\n",
       "         1.,   0.,   1.,   0.,   1.,   0.,   0.,   1.,   0.,   1.,   0.,\n",
       "         1.,   0.,   0.,   0.,   0.,   0.,   0.,   0.,   0.,   0.,   0.,\n",
       "         0.,   0.,   1.,   0.,   0.,   1.,   0., 999.,   0.,   0.,   0.,\n",
       "         0.,   0.,   0.,   0.,   0.,   0.,   1.,   0.,   0., 999.,   0.,\n",
       "         0.,   0.,   0.,   0.,   0.,   1.,   1.,   0.,   0.,   0.,   0.,\n",
       "         0.,   0.,   0.,   0.,   1.,   0.,   1.,   0.,   1.,   1.,   0.,\n",
       "         0.,   0.,   0.,   0.,   0.,   1.,   0.,   0.,   0.,   0.,   0.,\n",
       "         0.,   0.,   0.,   0.,   0.,   0.,   0.,   0.,   0.,   0., 999.,\n",
       "         0.,   0.,   0.,   1.,   0., 999.,   0.,   1.,   0.,   0.,   0.,\n",
       "         1.,   1.,   0.,   0., 999.,   0.,   1.,   0.,   1.,   0.,   0.,\n",
       "         1.,   1.,   0.,   0.,   0.,   1.,   0.,   0.,   0.,   1., 999.,\n",
       "         0.,   0.,   0.,   0.,   1.,   1.,   0.,   0.,   0.,   1.,   0.,\n",
       "         0.,   0.,   0.,   1.,   0.,   1.,   0.,   0.,   0.,   0.,   0.,\n",
       "         0.,   0.,   0.,   1.,   0.,   1.,   1.,   0.,   0.,   0.,   0.,\n",
       "         0.,   0.,   0.,   0.,   0.,   0.,   0.,   0.,   0.,   0.,   0.,\n",
       "         0.,   0.,   0.,   0.,   1.,   1.,   0.,   0.,   1.,   0.,   0.,\n",
       "         0.,   1.,   0.,   0.,   0.,   1.,   0.,   1., 999.,   0., 999.,\n",
       "         0.,   0.,   0.,   0.,   1.,   0.,   0.,   0.,   0.,   0.,   0.,\n",
       "         0.,   0.,   0., 999.,   0.,   0.,   0.,   1.,   0.,   1., 999.,\n",
       "         1.,   0.,   0.,   1.,   0.,   0.,   1.,   1.,   0.,   0.,   1.,\n",
       "         0.,   0.,   0.,   0.,   0.,   0.,   1., 999.,   0.,   0.,   0.,\n",
       "         1.,   0.,   0.,   0.,   0.,   0.,   0.,   1.,   0.,   0.,   0.,\n",
       "         0.,   0.,   0.,   0.,   0.,   1.,   0.,   0.,   0.,   0.,   1.,\n",
       "         0., 999.,   1.,   0.,   1.,   0.,   0.,   0.,   0.,   0.,   0.,\n",
       "         1.,   1.,   0.,   0.,   0.,   1.,   1.,   0.,   0.,   0.,   0.,\n",
       "         0.,   0.,   0.,   1.,   0.,   0.,   0.,   0.,   1.,   0.,   0.,\n",
       "         0.,   0.,   0.,   0.,   1.,   0.,   0.,   0.,   0.,   0.,   0.,\n",
       "         0.,   0.,   0.,   0.,   0.,   1.,   1.,   0.,   0.,   0.,   0.,\n",
       "         0.,   0.,   1.,   0.,   1.,   0.,   1.,   0.,   0.,   1.,   0.,\n",
       "         0.,   0.,   0.,   0.,   0.,   0.,   0.,   0.,   0.,   0.,   1.,\n",
       "         1.,   0.,   0.,   0.,   0.,   0.,   1., 999.,   0.,   0.,   1.,\n",
       "         0.,   1.,   1.,   0.,   1., 999.,   0.,   0.,   0.,   0.,   1.,\n",
       "         0.,   1.,   0.,   0.,   0.,   0.,   0.,   1.,   0.,   0.,   0.,\n",
       "         0.,   0.,   0.,   0.,   0.,   1.,   0.,   1.,   1.,   1.,   0.,\n",
       "         1., 999.,   0.,   0.,   0.,   0.,   0.,   0.,   0.,   1.,   0.,\n",
       "         0.,   0.,   0.,   0.,   0.,   0.,   1., 999.,   1.,   0.,   0.,\n",
       "         1.,   1.,   1.,   0.,   0.,   0.,   1.,   0.,   0.,   1.,   0.,\n",
       "         1.,   0.,   0.,   0.,   0., 999.,   1.,   0.,   0.,   0.,   1.,\n",
       "       999.,   0.,   1.,   0.,   0.,   1.,   0.,   0.,   0.,   0.,   0.,\n",
       "         1.,   0.,   0.,   1.,   0.,   0.,   0.,   0.,   0.,   0.])"
      ]
     },
     "execution_count": 48,
     "metadata": {},
     "output_type": "execute_result"
    }
   ],
   "source": [
    "AD_poly"
   ]
  },
  {
   "cell_type": "code",
   "execution_count": null,
   "metadata": {},
   "outputs": [],
   "source": []
  }
 ],
 "metadata": {
  "kernelspec": {
   "display_name": "Python 3",
   "language": "python",
   "name": "python3"
  },
  "language_info": {
   "codemirror_mode": {
    "name": "ipython",
    "version": 3
   },
   "file_extension": ".py",
   "mimetype": "text/x-python",
   "name": "python",
   "nbconvert_exporter": "python",
   "pygments_lexer": "ipython3",
   "version": "3.12.5"
  }
 },
 "nbformat": 4,
 "nbformat_minor": 2
}
