{
 "cells": [
  {
   "cell_type": "code",
   "execution_count": 1,
   "metadata": {},
   "outputs": [],
   "source": [
    "import numpy as np\n",
    "import pandas as pd\n",
    "\n",
    "from multiprocessing import Pool\n",
    "\n",
    "from model import PModel, PIP"
   ]
  },
  {
   "cell_type": "markdown",
   "metadata": {},
   "source": [
    "### Define functions to calculate diversity metrics and the slope from a quadratic polynomial"
   ]
  },
  {
   "cell_type": "code",
   "execution_count": 2,
   "metadata": {},
   "outputs": [],
   "source": [
    "def shannon_div(X_t):\n",
    "\teq_prop = X_t[:,-1] / np.sum(X_t[:,-1])\n",
    "\teq_prop = eq_prop[eq_prop > 0]\n",
    "\tdiv = -np.sum(eq_prop*np.log(eq_prop))\n",
    "\treturn div\n",
    "\n",
    "def nucleotide_div(model, X_t):\n",
    "\tdiv = 0\n",
    "\tsum = np.sum(X_t[:, -1])\n",
    "\t\n",
    "\tfor j in range(0, model.S_genotypes):\n",
    "\t\tfor k in range(j + 1, model.S_genotypes):\n",
    "\t\t\tpi = np.sum(np.absolute(model.G[j] - model.G[k]))\n",
    "\t\t\tdiv += (X_t[j, -1]*X_t[k, -1]*pi) / sum**2\n",
    "\t\t\t\n",
    "\treturn div\n",
    "\n",
    "def get_slope(model):\n",
    "\tmodel.beta = 1\n",
    "\tmodel.normalize()\n",
    "\t\n",
    "\tres, fec = model.pareto()\n",
    "\tslope = np.polyfit(res, 1-fec, 2)[0]\n",
    "\n",
    "\treturn slope"
   ]
  },
  {
   "cell_type": "markdown",
   "metadata": {},
   "source": [
    "### Function to run a simulation and return a dictionary of summary values for the simulation run"
   ]
  },
  {
   "cell_type": "code",
   "execution_count": 3,
   "metadata": {},
   "outputs": [],
   "source": [
    "def get_sim_results(epistasis=0, n_loci=9, beta=0.005, n_gens = 15, t = (0, 1000), p1 = 0.3, p2 = 0.3, sigma1 = 0.3, sigma2 = 0.3):\n",
    "    cost = np.random.exponential(0.1, n_loci)\n",
    "    res = np.random.exponential(0.1, n_loci)\n",
    "\n",
    "    model = PModel(n_loci, res, cost, beta=beta)\n",
    "\n",
    "    if epistasis == 1:\n",
    "        model.add_epistasis(2, p1, sigma1)\n",
    "    elif epistasis == 2:\n",
    "        model.add_epistasis(2, p1, sigma1)\n",
    "        model.add_epistasis(3, p2, sigma2)\n",
    "\n",
    "    model.normalize()\n",
    "\n",
    "    data = {}\n",
    "    \n",
    "    X_t, _ = model.run_sim(t, n_gens)\n",
    "\n",
    "    threshold = 1\n",
    "    \n",
    "    #Check for polymorphism and update counters\n",
    "    if np.sum(X_t[:, -1] > threshold) > 1:\n",
    "        data['Polymorphism'] = True\n",
    "    else:\n",
    "        data['Polymorphism'] = False\n",
    "\n",
    "    res_pareto, fec_pareto = model.pareto()\n",
    "    res_poly, fec_poly, _ = model.poly_approx(order=3, points=1000)\n",
    "    res_linear, fec_linear = model.linear_approx(points=1000)\n",
    "\n",
    "    data['PIPMin: Pareto'] = np.min(np.sum(PIP(res_pareto, fec_pareto), axis=1))\n",
    "    data['PIPMin: Polynomial'] = np.min(np.sum(PIP(res_poly, fec_poly), axis=1))\n",
    "    data['PIPMin: Linear'] = np.min(np.sum(PIP(res_linear, fec_linear), axis=1))\n",
    "    \n",
    "    data['Shannon Diversity'] = shannon_div(X_t)\n",
    "    data['Nucleotide Diversity'] = nucleotide_div(model, X_t)\n",
    "    data['Slope'] = get_slope(model)\n",
    "\n",
    "    return data\n"
   ]
  },
  {
   "cell_type": "markdown",
   "metadata": {},
   "source": [
    "### Run a batch of simulations, and save the outputs as a .csv file"
   ]
  },
  {
   "cell_type": "code",
   "execution_count": 5,
   "metadata": {},
   "outputs": [],
   "source": [
    "from numpy.random import seed\n",
    "\n",
    "n_sims = 1000\n",
    "epistasis = 0\n",
    "name = 'epi_0'\n",
    "\n",
    "def init_pool_processes():\n",
    "    seed()\n",
    "\n",
    "pool = Pool(processes=8, initializer=init_pool_processes)\n",
    "results = pool.map(get_sim_results, np.ones(n_sims)*epistasis)\n",
    "\n",
    "data = pd.DataFrame.from_dict(results, orient='columns')\n",
    "data.to_csv(name + '.csv', index=False, mode='w')  "
   ]
  }
 ],
 "metadata": {
  "kernelspec": {
   "display_name": "Python 3",
   "language": "python",
   "name": "python3"
  },
  "language_info": {
   "codemirror_mode": {
    "name": "ipython",
    "version": 3
   },
   "file_extension": ".py",
   "mimetype": "text/x-python",
   "name": "python",
   "nbconvert_exporter": "python",
   "pygments_lexer": "ipython3",
   "version": "3.12.5"
  }
 },
 "nbformat": 4,
 "nbformat_minor": 2
}
